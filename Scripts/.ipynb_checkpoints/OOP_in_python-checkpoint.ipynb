{
 "cells": [
  {
   "cell_type": "code",
   "execution_count": 2,
   "metadata": {},
   "outputs": [
    {
     "name": "stdout",
     "output_type": "stream",
     "text": [
      "1.7\n",
      "2.2\n",
      "3.74\n"
     ]
    }
   ],
   "source": [
    "class My_data_type:\n",
    "    def init_some_vals(self,val2):\n",
    "        self.first_var = 1.7\n",
    "        self.second_var = val2\n",
    "    def multiply_vals(self):\n",
    "        return self.first_var*self.second_var\n",
    "    \n",
    "me = My_data_type()\n",
    "me.init_some_vals(2.2)\n",
    "print(me.first_var)\n",
    "print(me.second_var)\n",
    "print(me.multiply_vals())"
   ]
  },
  {
   "cell_type": "code",
   "execution_count": 3,
   "metadata": {},
   "outputs": [
    {
     "ename": "NameError",
     "evalue": "name 'self' is not defined",
     "output_type": "error",
     "traceback": [
      "\u001b[0;31m---------------------------------------------------------------------------\u001b[0m",
      "\u001b[0;31mNameError\u001b[0m                                 Traceback (most recent call last)",
      "\u001b[0;32m<ipython-input-3-6c4cb10fb7d8>\u001b[0m in \u001b[0;36m<module>\u001b[0;34m\u001b[0m\n\u001b[0;32m----> 1\u001b[0;31m \u001b[0mprint\u001b[0m\u001b[0;34m(\u001b[0m\u001b[0mself\u001b[0m\u001b[0;34m.\u001b[0m\u001b[0mfirst_var\u001b[0m\u001b[0;34m)\u001b[0m\u001b[0;34m\u001b[0m\u001b[0;34m\u001b[0m\u001b[0m\n\u001b[0m",
      "\u001b[0;31mNameError\u001b[0m: name 'self' is not defined"
     ]
    }
   ],
   "source": [
    "print(self.first_var)"
   ]
  },
  {
   "cell_type": "code",
   "execution_count": 4,
   "metadata": {},
   "outputs": [
    {
     "name": "stdout",
     "output_type": "stream",
     "text": [
      "231.3\n"
     ]
    }
   ],
   "source": [
    "me.third_var = 231.3\n",
    "print(me.third_var)"
   ]
  },
  {
   "cell_type": "code",
   "execution_count": 5,
   "metadata": {},
   "outputs": [
    {
     "ename": "AttributeError",
     "evalue": "'My_data_type' object has no attribute 'third_var'",
     "output_type": "error",
     "traceback": [
      "\u001b[0;31m---------------------------------------------------------------------------\u001b[0m",
      "\u001b[0;31mAttributeError\u001b[0m                            Traceback (most recent call last)",
      "\u001b[0;32m<ipython-input-5-ab825305da75>\u001b[0m in \u001b[0;36m<module>\u001b[0;34m\u001b[0m\n\u001b[1;32m      1\u001b[0m \u001b[0myou\u001b[0m \u001b[0;34m=\u001b[0m \u001b[0mMy_data_type\u001b[0m\u001b[0;34m(\u001b[0m\u001b[0;34m)\u001b[0m\u001b[0;34m\u001b[0m\u001b[0;34m\u001b[0m\u001b[0m\n\u001b[1;32m      2\u001b[0m \u001b[0myou\u001b[0m\u001b[0;34m.\u001b[0m\u001b[0minit_some_vals\u001b[0m\u001b[0;34m(\u001b[0m\u001b[0;36m6.1\u001b[0m\u001b[0;34m)\u001b[0m\u001b[0;34m\u001b[0m\u001b[0;34m\u001b[0m\u001b[0m\n\u001b[0;32m----> 3\u001b[0;31m \u001b[0mprint\u001b[0m\u001b[0;34m(\u001b[0m\u001b[0myou\u001b[0m\u001b[0;34m.\u001b[0m\u001b[0mthird_var\u001b[0m\u001b[0;34m)\u001b[0m\u001b[0;34m\u001b[0m\u001b[0;34m\u001b[0m\u001b[0m\n\u001b[0m",
      "\u001b[0;31mAttributeError\u001b[0m: 'My_data_type' object has no attribute 'third_var'"
     ]
    }
   ],
   "source": [
    "you = My_data_type()\n",
    "you.init_some_vals(6.1)\n",
    "print(you.third_var)"
   ]
  },
  {
   "cell_type": "code",
   "execution_count": 27,
   "metadata": {},
   "outputs": [],
   "source": [
    "class Pet:\n",
    "    def __init__(self,animal_type,name,age,weight_lbs,color):\n",
    "        self.animal_type = animal_type\n",
    "        self.name = name\n",
    "        self.age = age\n",
    "        self.weight_lbs = weight_lbs\n",
    "        self.color = color\n",
    "        self.weight_kg = self.calc_weight_in_kg()\n",
    "        \n",
    "    def calc_weight_in_kg(self):\n",
    "        return 0.453592*self.weight_lbs\n",
    "    \n",
    "    def describe_pet(self):\n",
    "        print('This pet is a ',self.color,' and it is ',self.age,' years old')\n",
    "        print('This pet weighs ',self.weight_lbs,' pound , which is ',round(self.weight_kg,2),' kilograms')\n",
    "                \n",
    "    "
   ]
  },
  {
   "cell_type": "code",
   "execution_count": 28,
   "metadata": {},
   "outputs": [
    {
     "name": "stdout",
     "output_type": "stream",
     "text": [
      "This pet is a  orange  and it is  3  years old\n",
      "This pet weighs  7  pound , which is  3.18  kilograms\n",
      "This pet is a  brown  and it is  9  years old\n",
      "This pet weighs  18  pound , which is  8.16  kilograms\n"
     ]
    }
   ],
   "source": [
    "my_cat = Pet('cat','Mittens',3,7,'orange')\n",
    "my_dog = Pet('dog','Spot',9,18,'brown')\n",
    "my_cat.describe_pet()\n",
    "my_dog.describe_pet()"
   ]
  },
  {
   "cell_type": "code",
   "execution_count": 29,
   "metadata": {},
   "outputs": [
    {
     "name": "stdout",
     "output_type": "stream",
     "text": [
      "orange\n",
      "9\n"
     ]
    }
   ],
   "source": [
    "print(my_cat.color)\n",
    "print(my_dog.age)"
   ]
  },
  {
   "cell_type": "code",
   "execution_count": 30,
   "metadata": {},
   "outputs": [
    {
     "name": "stdout",
     "output_type": "stream",
     "text": [
      "5\n",
      "3.175144\n"
     ]
    }
   ],
   "source": [
    "my_cat.weight_lbs = 5\n",
    "print(my_cat.weight_lbs)\n",
    "print(my_cat.weight_kg)"
   ]
  },
  {
   "cell_type": "code",
   "execution_count": 31,
   "metadata": {},
   "outputs": [
    {
     "name": "stdout",
     "output_type": "stream",
     "text": [
      "2.26796\n",
      "8.164656\n",
      "3.175144\n",
      "2.26796\n"
     ]
    }
   ],
   "source": [
    "\n",
    "print(my_cat.calc_weight_in_kg())\n",
    "print(my_dog.calc_weight_in_kg())\n",
    "print(my_cat.weight_kg)\n",
    "my_cat.weight_kg=my_cat.calc_weight_in_kg()\n",
    "print(my_cat.weight_kg)"
   ]
  },
  {
   "cell_type": "code",
   "execution_count": null,
   "metadata": {},
   "outputs": [],
   "source": []
  }
 ],
 "metadata": {
  "kernelspec": {
   "display_name": "Python 3",
   "language": "python",
   "name": "python3"
  },
  "language_info": {
   "codemirror_mode": {
    "name": "ipython",
    "version": 3
   },
   "file_extension": ".py",
   "mimetype": "text/x-python",
   "name": "python",
   "nbconvert_exporter": "python",
   "pygments_lexer": "ipython3",
   "version": "3.7.3"
  }
 },
 "nbformat": 4,
 "nbformat_minor": 4
}
