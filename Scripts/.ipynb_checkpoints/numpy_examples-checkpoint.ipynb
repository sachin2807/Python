{
 "cells": [
  {
   "cell_type": "code",
   "execution_count": 1,
   "metadata": {},
   "outputs": [],
   "source": [
    "import numpy as np"
   ]
  },
  {
   "cell_type": "code",
   "execution_count": 7,
   "metadata": {},
   "outputs": [
    {
     "name": "stdout",
     "output_type": "stream",
     "text": [
      "-1.0\n",
      "1.1\n",
      "5.2\n"
     ]
    }
   ],
   "source": [
    "print(np.cos(np.pi))\n",
    "print(np.sqrt(1.21))\n",
    "print(np.log(np.exp(5.2)))"
   ]
  },
  {
   "cell_type": "code",
   "execution_count": 10,
   "metadata": {},
   "outputs": [
    {
     "name": "stdout",
     "output_type": "stream",
     "text": [
      "[1, 2, 3]\n",
      "\n",
      "[[1 2 3]\n",
      " [4 5 6]\n",
      " [7 8 9]]\n",
      "\n",
      "[[1 4 7]\n",
      " [2 5 8]\n",
      " [3 6 9]]\n"
     ]
    }
   ],
   "source": [
    "vec = ([1,2,3])\n",
    "print(vec)\n",
    "mat = np.array([[1,2,3],[4,5,6],[7,8,9]])\n",
    "print('')\n",
    "print(mat)\n",
    "print('')\n",
    "print(mat.T)"
   ]
  },
  {
   "cell_type": "code",
   "execution_count": 14,
   "metadata": {},
   "outputs": [
    {
     "name": "stdout",
     "output_type": "stream",
     "text": [
      "[ 0  1  2  3  4  5  6  7  8  9 10 11 12 13 14]\n",
      "\n",
      "[ 0  3  6  9 12]\n"
     ]
    }
   ],
   "source": [
    "vec2= np.arange(0,15)\n",
    "print(vec2)\n",
    "print('')\n",
    "\n",
    "vec3= np.arange(0,15,3)\n",
    "print(vec3)"
   ]
  },
  {
   "cell_type": "code",
   "execution_count": 16,
   "metadata": {},
   "outputs": [
    {
     "name": "stdout",
     "output_type": "stream",
     "text": [
      "[0.         0.55555556 1.11111111 1.66666667 2.22222222 2.77777778\n",
      " 3.33333333 3.88888889 4.44444444 5.        ]\n",
      "\n",
      "[[0.         0.55555556]\n",
      " [1.11111111 1.66666667]\n",
      " [2.22222222 2.77777778]\n",
      " [3.33333333 3.88888889]\n",
      " [4.44444444 5.        ]]\n",
      "[[0.         0.55555556]\n",
      " [1.11111111 1.66666667]\n",
      " [2.22222222 2.77777778]\n",
      " [3.33333333 3.88888889]\n",
      " [4.44444444 5.        ]]\n",
      "[0.         0.55555556 1.11111111 1.66666667 2.22222222 2.77777778\n",
      " 3.33333333 3.88888889 4.44444444 5.        ]\n"
     ]
    }
   ],
   "source": [
    "vec4=np.linspace(0,5,10)\n",
    "print(vec4)\n",
    "print('')\n",
    "print(vec4.reshape(5,2))\n",
    "vec4_reshaped=vec4.reshape(5,2)\n",
    "print(vec4_reshaped)\n",
    "print(vec4)"
   ]
  },
  {
   "cell_type": "code",
   "execution_count": 22,
   "metadata": {},
   "outputs": [
    {
     "name": "stdout",
     "output_type": "stream",
     "text": [
      "[[0. 0. 0.]\n",
      " [0. 0. 0.]\n",
      " [0. 0. 0.]\n",
      " [0. 0. 0.]\n",
      " [0. 0. 0.]]\n",
      "[[1. 1.]\n",
      " [1. 1.]\n",
      " [1. 1.]\n",
      " [1. 1.]\n",
      " [1. 1.]]\n",
      "\n",
      "[[1. 0. 0. 0. 0.]\n",
      " [0. 1. 0. 0. 0.]\n",
      " [0. 0. 1. 0. 0.]\n",
      " [0. 0. 0. 1. 0.]\n",
      " [0. 0. 0. 0. 1.]]\n"
     ]
    }
   ],
   "source": [
    "mat2=np.zeros([5,3])\n",
    "print(mat2)\n",
    "mat3=np.ones([5,2])\n",
    "print(mat3)\n",
    "mat4=np.eye(5)\n",
    "print('')\n",
    "print(mat4)"
   ]
  },
  {
   "cell_type": "code",
   "execution_count": 23,
   "metadata": {},
   "outputs": [
    {
     "name": "stdout",
     "output_type": "stream",
     "text": [
      "[1 2 3 4 5]\n",
      "[3 4 5 6 7]\n",
      "[ 4  6  8 10 12]\n",
      "[ 3  8 15 24 35]\n",
      "[1.         0.5        0.33333333 0.25       0.2       ]\n",
      "[1.73205081 2.         2.23606798 2.44948974 2.64575131]\n"
     ]
    }
   ],
   "source": [
    "vec5=np.arange(1,6)\n",
    "vec6=np.arange(3,8)\n",
    "print(vec5)\n",
    "print(vec6)\n",
    "print(vec5+vec6)\n",
    "print(vec5*vec6)\n",
    "print(1/vec5)\n",
    "print(np.sqrt(vec6))"
   ]
  },
  {
   "cell_type": "code",
   "execution_count": 30,
   "metadata": {},
   "outputs": [
    {
     "name": "stdout",
     "output_type": "stream",
     "text": [
      "[[1 2 3]\n",
      " [4 5 6]\n",
      " [7 8 9]]\n",
      "[1, 2, 3]\n",
      "[14 32 50]\n",
      "[30 36 42]\n"
     ]
    }
   ],
   "source": [
    "print(mat)\n",
    "print(vec)\n",
    "product=np.matmul(mat,vec)\n",
    "product1=np.matmul(vec,mat)\n",
    "print(product)\n",
    "print(product1)"
   ]
  },
  {
   "cell_type": "code",
   "execution_count": 33,
   "metadata": {},
   "outputs": [
    {
     "ename": "LinAlgError",
     "evalue": "Singular matrix",
     "output_type": "error",
     "traceback": [
      "\u001b[0;31m---------------------------------------------------------------------------\u001b[0m",
      "\u001b[0;31mLinAlgError\u001b[0m                               Traceback (most recent call last)",
      "\u001b[0;32m<ipython-input-33-64293e79c3cf>\u001b[0m in \u001b[0;36m<module>\u001b[0;34m\u001b[0m\n\u001b[1;32m      1\u001b[0m \u001b[0;31m#print(np.linalg.solve(mat,product))\u001b[0m\u001b[0;34m\u001b[0m\u001b[0;34m\u001b[0m\u001b[0;34m\u001b[0m\u001b[0m\n\u001b[0;32m----> 2\u001b[0;31m \u001b[0mprint\u001b[0m\u001b[0;34m(\u001b[0m\u001b[0mnp\u001b[0m\u001b[0;34m.\u001b[0m\u001b[0mlinalg\u001b[0m\u001b[0;34m.\u001b[0m\u001b[0minv\u001b[0m\u001b[0;34m(\u001b[0m\u001b[0mmat\u001b[0m\u001b[0;34m)\u001b[0m\u001b[0;34m)\u001b[0m\u001b[0;34m\u001b[0m\u001b[0;34m\u001b[0m\u001b[0m\n\u001b[0m",
      "\u001b[0;32m<__array_function__ internals>\u001b[0m in \u001b[0;36minv\u001b[0;34m(*args, **kwargs)\u001b[0m\n",
      "\u001b[0;32m~/Library/Python/3.7/lib/python/site-packages/numpy/linalg/linalg.py\u001b[0m in \u001b[0;36minv\u001b[0;34m(a)\u001b[0m\n\u001b[1;32m    544\u001b[0m     \u001b[0msignature\u001b[0m \u001b[0;34m=\u001b[0m \u001b[0;34m'D->D'\u001b[0m \u001b[0;32mif\u001b[0m \u001b[0misComplexType\u001b[0m\u001b[0;34m(\u001b[0m\u001b[0mt\u001b[0m\u001b[0;34m)\u001b[0m \u001b[0;32melse\u001b[0m \u001b[0;34m'd->d'\u001b[0m\u001b[0;34m\u001b[0m\u001b[0;34m\u001b[0m\u001b[0m\n\u001b[1;32m    545\u001b[0m     \u001b[0mextobj\u001b[0m \u001b[0;34m=\u001b[0m \u001b[0mget_linalg_error_extobj\u001b[0m\u001b[0;34m(\u001b[0m\u001b[0m_raise_linalgerror_singular\u001b[0m\u001b[0;34m)\u001b[0m\u001b[0;34m\u001b[0m\u001b[0;34m\u001b[0m\u001b[0m\n\u001b[0;32m--> 546\u001b[0;31m     \u001b[0mainv\u001b[0m \u001b[0;34m=\u001b[0m \u001b[0m_umath_linalg\u001b[0m\u001b[0;34m.\u001b[0m\u001b[0minv\u001b[0m\u001b[0;34m(\u001b[0m\u001b[0ma\u001b[0m\u001b[0;34m,\u001b[0m \u001b[0msignature\u001b[0m\u001b[0;34m=\u001b[0m\u001b[0msignature\u001b[0m\u001b[0;34m,\u001b[0m \u001b[0mextobj\u001b[0m\u001b[0;34m=\u001b[0m\u001b[0mextobj\u001b[0m\u001b[0;34m)\u001b[0m\u001b[0;34m\u001b[0m\u001b[0;34m\u001b[0m\u001b[0m\n\u001b[0m\u001b[1;32m    547\u001b[0m     \u001b[0;32mreturn\u001b[0m \u001b[0mwrap\u001b[0m\u001b[0;34m(\u001b[0m\u001b[0mainv\u001b[0m\u001b[0;34m.\u001b[0m\u001b[0mastype\u001b[0m\u001b[0;34m(\u001b[0m\u001b[0mresult_t\u001b[0m\u001b[0;34m,\u001b[0m \u001b[0mcopy\u001b[0m\u001b[0;34m=\u001b[0m\u001b[0;32mFalse\u001b[0m\u001b[0;34m)\u001b[0m\u001b[0;34m)\u001b[0m\u001b[0;34m\u001b[0m\u001b[0;34m\u001b[0m\u001b[0m\n\u001b[1;32m    548\u001b[0m \u001b[0;34m\u001b[0m\u001b[0m\n",
      "\u001b[0;32m~/Library/Python/3.7/lib/python/site-packages/numpy/linalg/linalg.py\u001b[0m in \u001b[0;36m_raise_linalgerror_singular\u001b[0;34m(err, flag)\u001b[0m\n\u001b[1;32m     86\u001b[0m \u001b[0;34m\u001b[0m\u001b[0m\n\u001b[1;32m     87\u001b[0m \u001b[0;32mdef\u001b[0m \u001b[0m_raise_linalgerror_singular\u001b[0m\u001b[0;34m(\u001b[0m\u001b[0merr\u001b[0m\u001b[0;34m,\u001b[0m \u001b[0mflag\u001b[0m\u001b[0;34m)\u001b[0m\u001b[0;34m:\u001b[0m\u001b[0;34m\u001b[0m\u001b[0;34m\u001b[0m\u001b[0m\n\u001b[0;32m---> 88\u001b[0;31m     \u001b[0;32mraise\u001b[0m \u001b[0mLinAlgError\u001b[0m\u001b[0;34m(\u001b[0m\u001b[0;34m\"Singular matrix\"\u001b[0m\u001b[0;34m)\u001b[0m\u001b[0;34m\u001b[0m\u001b[0;34m\u001b[0m\u001b[0m\n\u001b[0m\u001b[1;32m     89\u001b[0m \u001b[0;34m\u001b[0m\u001b[0m\n\u001b[1;32m     90\u001b[0m \u001b[0;32mdef\u001b[0m \u001b[0m_raise_linalgerror_nonposdef\u001b[0m\u001b[0;34m(\u001b[0m\u001b[0merr\u001b[0m\u001b[0;34m,\u001b[0m \u001b[0mflag\u001b[0m\u001b[0;34m)\u001b[0m\u001b[0;34m:\u001b[0m\u001b[0;34m\u001b[0m\u001b[0;34m\u001b[0m\u001b[0m\n",
      "\u001b[0;31mLinAlgError\u001b[0m: Singular matrix"
     ]
    }
   ],
   "source": [
    "#print(np.linalg.solve(mat,product))\n",
    "print(np.linalg.inv(mat))"
   ]
  },
  {
   "cell_type": "code",
   "execution_count": 36,
   "metadata": {},
   "outputs": [
    {
     "name": "stdout",
     "output_type": "stream",
     "text": [
      "['blue' 'orange' 'red' 'red' 'yellow' '6' 'Red']\n",
      "['6' 'Red' 'blue' 'orange' 'red' 'yellow']\n"
     ]
    }
   ],
   "source": [
    "vec7 = np.array(['blue','orange','red','red','yellow',6,'Red'])\n",
    "print(vec7)\n",
    "print(np.unique(vec7))"
   ]
  },
  {
   "cell_type": "code",
   "execution_count": 39,
   "metadata": {},
   "outputs": [
    {
     "name": "stdout",
     "output_type": "stream",
     "text": [
      "[[0.5319678  0.49628457 0.35723395 0.98483666 0.18280707]\n",
      " [0.08249675 0.21554897 0.08711162 0.29469679 0.78881086]\n",
      " [0.02986071 0.93206962 0.76228002 0.99843735 0.40291077]\n",
      " [0.84393075 0.28135431 0.77700889 0.47309182 0.91940095]\n",
      " [0.98607777 0.78760567 0.36827271 0.23737644 0.44566016]]\n",
      "[[ 0.56406572 -2.45308343  1.09915431  0.55334963 -1.49591135]\n",
      " [ 1.16166719  1.63220271 -1.47229194  0.78653554 -0.24907279]\n",
      " [-0.38648293 -0.2228799   0.61999108 -0.93065148 -0.03620401]\n",
      " [ 0.51615141 -0.10689888 -0.4928117   0.92656789 -0.67133962]\n",
      " [-0.70128694 -1.67902255 -0.28971144 -1.70895881  1.6213796 ]\n",
      " [ 0.46389464  0.33988367 -2.07352601 -0.14894384  0.4001852 ]\n",
      " [-1.09059488 -1.8543349  -1.0516436   2.24155284 -0.65935472]\n",
      " [-0.55633153  1.05732578  1.01161723 -1.48532755  0.32315879]\n",
      " [ 0.68596545 -0.29920126 -0.42476915 -1.15704237  1.88778817]\n",
      " [-1.45258963 -0.88460177  0.97417898  0.14045018  0.31956351]]\n"
     ]
    }
   ],
   "source": [
    "rand_mat = np.random.rand(5,5)\n",
    "print(rand_mat)\n",
    "rand_mat2 = np.random.randn(10,5)\n",
    "print(rand_mat2)"
   ]
  },
  {
   "cell_type": "code",
   "execution_count": 41,
   "metadata": {},
   "outputs": [
    {
     "name": "stdout",
     "output_type": "stream",
     "text": [
      "0.5306853190554573\n",
      "1.0830365580215529\n"
     ]
    }
   ],
   "source": [
    "print(np.mean(rand_mat))\n",
    "print(np.std(rand_mat2))"
   ]
  },
  {
   "cell_type": "code",
   "execution_count": 42,
   "metadata": {},
   "outputs": [
    {
     "name": "stdout",
     "output_type": "stream",
     "text": [
      "0.029860708218788834\n",
      "2.241552839848352\n"
     ]
    }
   ],
   "source": [
    "print(np.min(rand_mat))\n",
    "print(np.max(rand_mat2))"
   ]
  },
  {
   "cell_type": "code",
   "execution_count": 45,
   "metadata": {},
   "outputs": [
    {
     "name": "stdout",
     "output_type": "stream",
     "text": [
      "[ 0.88886435 -0.47417462  1.85659723 -3.50552666  0.19873638  0.27650385\n",
      " -0.70781721 -0.58012442  1.42402778  1.67577472 -0.31242902 -0.84127369\n",
      "  1.01161015 -0.07893234  0.40065892 -0.89231348 -0.07248998  0.10466091\n",
      " -3.8277614 ]\n",
      "-0.7078172086861042\n"
     ]
    }
   ],
   "source": [
    "rand_vac=np.random.randn(19)\n",
    "print(rand_vac)\n",
    "print(rand_vac[6])"
   ]
  },
  {
   "cell_type": "code",
   "execution_count": 47,
   "metadata": {},
   "outputs": [
    {
     "name": "stdout",
     "output_type": "stream",
     "text": [
      "[ 0.88886435 -0.47417462  1.85659723 -3.50552666  0.19873638]\n",
      "[ 0.19873638  0.27650385 -0.70781721 -0.58012442  1.42402778]\n"
     ]
    }
   ],
   "source": [
    "print(rand_vac[:5])\n",
    "print(rand_vac[4:9])"
   ]
  },
  {
   "cell_type": "code",
   "execution_count": 49,
   "metadata": {},
   "outputs": [
    {
     "name": "stdout",
     "output_type": "stream",
     "text": [
      "[ 0  3  6  9 12]\n",
      "[ 0.88886435 -3.50552666 -0.70781721  1.67577472  1.01161015]\n"
     ]
    }
   ],
   "source": [
    "print(np.arange(0,15,3))\n",
    "print(rand_vac[np.arange(0,15,3)])"
   ]
  },
  {
   "cell_type": "code",
   "execution_count": 52,
   "metadata": {},
   "outputs": [
    {
     "name": "stdout",
     "output_type": "stream",
     "text": [
      "[[0.5319678  0.49628457 0.35723395 0.98483666 0.18280707]\n",
      " [0.08249675 0.21554897 0.08711162 0.29469679 0.78881086]\n",
      " [0.02986071 0.93206962 0.76228002 0.99843735 0.40291077]\n",
      " [0.84393075 0.28135431 0.77700889 0.47309182 0.91940095]\n",
      " [0.98607777 0.78760567 0.36827271 0.23737644 0.44566016]]\n",
      "0.08711161985581528\n",
      "0.08711161985581528\n"
     ]
    }
   ],
   "source": [
    "print(rand_mat)\n",
    "print(rand_mat[1][2])\n",
    "print(rand_mat[1,2])"
   ]
  },
  {
   "cell_type": "code",
   "execution_count": 54,
   "metadata": {},
   "outputs": [
    {
     "name": "stdout",
     "output_type": "stream",
     "text": [
      "[[0.49628457 0.35723395]\n",
      " [0.21554897 0.08711162]]\n"
     ]
    }
   ],
   "source": [
    "print(rand_mat[0:2,1:3])"
   ]
  },
  {
   "cell_type": "code",
   "execution_count": 58,
   "metadata": {},
   "outputs": [
    {
     "name": "stdout",
     "output_type": "stream",
     "text": [
      "[ 0.88886435 -0.47417462  1.85659723  4.          4.          0.27650385\n",
      " -0.70781721 -0.58012442  1.42402778  1.67577472 -0.31242902 -0.84127369\n",
      "  1.01161015 -0.07893234  0.40065892 -0.89231348 -0.07248998  0.10466091\n",
      " -3.8277614 ]\n",
      "[ 0.88886435 -0.47417462  1.85659723  4.          4.          0.27650385\n",
      " -0.70781721 -0.58012442  1.42402778  1.67577472 -0.31242902 -0.84127369\n",
      "  1.01161015 -0.07893234  0.40065892 -0.89231348 -0.07248998  0.10466091\n",
      " -3.8277614 ]\n",
      "\n",
      "\n",
      "[ 0.88886435 -0.47417462  1.85659723  1.          2.          0.27650385\n",
      " -0.70781721 -0.58012442  1.42402778  1.67577472 -0.31242902 -0.84127369\n",
      "  1.01161015 -0.07893234  0.40065892 -0.89231348 -0.07248998  0.10466091\n",
      " -3.8277614 ]\n"
     ]
    }
   ],
   "source": [
    "print(rand_vac)\n",
    "rand_vac[3:5] =4\n",
    "print(rand_vac)\n",
    "print('')\n",
    "rand_vac[3:5] =[1,2]\n",
    "print('')\n",
    "print(rand_vac)"
   ]
  },
  {
   "cell_type": "code",
   "execution_count": 60,
   "metadata": {},
   "outputs": [
    {
     "name": "stdout",
     "output_type": "stream",
     "text": [
      "[[0.5319678  0.49628457 0.35723395 0.98483666 0.18280707]\n",
      " [0.08249675 0.21554897 0.08711162 0.29469679 0.78881086]\n",
      " [0.02986071 0.93206962 0.76228002 0.99843735 0.40291077]\n",
      " [0.84393075 0.28135431 0.77700889 0.47309182 0.91940095]\n",
      " [0.98607777 0.78760567 0.36827271 0.23737644 0.44566016]]\n",
      "[[0.5319678  0.49628457 0.35723395 0.98483666 0.18280707]\n",
      " [0.08249675 0.21554897 0.08711162 0.29469679 0.        ]\n",
      " [0.02986071 0.93206962 0.76228002 0.99843735 0.        ]\n",
      " [0.84393075 0.28135431 0.77700889 0.47309182 0.91940095]\n",
      " [0.98607777 0.78760567 0.36827271 0.23737644 0.44566016]]\n"
     ]
    }
   ],
   "source": [
    "print(rand_mat)\n",
    "rand_mat[1:3,4:5] = 0\n",
    "print(rand_mat)"
   ]
  },
  {
   "cell_type": "code",
   "execution_count": 62,
   "metadata": {},
   "outputs": [
    {
     "name": "stdout",
     "output_type": "stream",
     "text": [
      "[[0.5319678  0.49628457 0.35723395]\n",
      " [0.08249675 0.21554897 0.08711162]]\n",
      "[[3. 3. 3.]\n",
      " [3. 3. 3.]]\n"
     ]
    }
   ],
   "source": [
    "sub_mat=rand_mat[0:2,0:3]\n",
    "print(sub_mat)\n",
    "sub_mat[:]=3\n",
    "print(sub_mat)"
   ]
  },
  {
   "cell_type": "code",
   "execution_count": 63,
   "metadata": {},
   "outputs": [
    {
     "name": "stdout",
     "output_type": "stream",
     "text": [
      "[[3.         3.         3.         0.98483666 0.18280707]\n",
      " [3.         3.         3.         0.29469679 0.        ]\n",
      " [0.02986071 0.93206962 0.76228002 0.99843735 0.        ]\n",
      " [0.84393075 0.28135431 0.77700889 0.47309182 0.91940095]\n",
      " [0.98607777 0.78760567 0.36827271 0.23737644 0.44566016]]\n"
     ]
    }
   ],
   "source": [
    "print(rand_mat)"
   ]
  },
  {
   "cell_type": "code",
   "execution_count": 64,
   "metadata": {},
   "outputs": [
    {
     "name": "stdout",
     "output_type": "stream",
     "text": [
      "[[3. 3. 3.]\n",
      " [3. 3. 3.]]\n",
      "[[99. 99. 99.]\n",
      " [99. 99. 99.]]\n",
      "[[3.         3.         3.         0.98483666 0.18280707]\n",
      " [3.         3.         3.         0.29469679 0.        ]\n",
      " [0.02986071 0.93206962 0.76228002 0.99843735 0.        ]\n",
      " [0.84393075 0.28135431 0.77700889 0.47309182 0.91940095]\n",
      " [0.98607777 0.78760567 0.36827271 0.23737644 0.44566016]]\n"
     ]
    }
   ],
   "source": [
    "sub_mat2=rand_mat[0:2,0:3].copy()\n",
    "print(sub_mat2)\n",
    "sub_mat2[:]=99\n",
    "print(sub_mat2)\n",
    "print(rand_mat)"
   ]
  },
  {
   "cell_type": "code",
   "execution_count": 68,
   "metadata": {},
   "outputs": [
    {
     "name": "stdout",
     "output_type": "stream",
     "text": [
      "[-2.04311228 -0.30442006  2.25062931  0.32387903 -0.09881289  0.76717318\n",
      "  0.03644874  0.48889591 -0.54829103  2.12902284  0.57024548 -0.159777\n",
      "  1.10163989 -0.25511907 -1.09410945]\n",
      "[False False  True  True False  True  True  True False  True  True False\n",
      "  True False False]\n",
      "[2.25062931 0.32387903 0.76717318 0.03644874 0.48889591 2.12902284\n",
      " 0.57024548 1.10163989]\n"
     ]
    }
   ],
   "source": [
    "rand_vec=np.random.randn(15)\n",
    "print(rand_vec)\n",
    "print(rand_vec >0)\n",
    "print(rand_vec[rand_vec>0])"
   ]
  },
  {
   "cell_type": "code",
   "execution_count": 69,
   "metadata": {},
   "outputs": [
    {
     "name": "stdout",
     "output_type": "stream",
     "text": [
      "[[ 0.56406572 -2.45308343  1.09915431  0.55334963 -1.49591135]\n",
      " [ 1.16166719  1.63220271 -1.47229194  0.78653554 -0.24907279]\n",
      " [-0.38648293 -0.2228799   0.61999108 -0.93065148 -0.03620401]\n",
      " [ 0.51615141 -0.10689888 -0.4928117   0.92656789 -0.67133962]\n",
      " [-0.70128694 -1.67902255 -0.28971144 -1.70895881  1.6213796 ]\n",
      " [ 0.46389464  0.33988367 -2.07352601 -0.14894384  0.4001852 ]\n",
      " [-1.09059488 -1.8543349  -1.0516436   2.24155284 -0.65935472]\n",
      " [-0.55633153  1.05732578  1.01161723 -1.48532755  0.32315879]\n",
      " [ 0.68596545 -0.29920126 -0.42476915 -1.15704237  1.88778817]\n",
      " [-1.45258963 -0.88460177  0.97417898  0.14045018  0.31956351]]\n",
      "[0.56406572 1.09915431 0.55334963 1.16166719 1.63220271 0.78653554\n",
      " 0.61999108 0.51615141 0.92656789 1.6213796  0.46389464 0.33988367\n",
      " 0.4001852  2.24155284 1.05732578 1.01161723 0.32315879 0.68596545\n",
      " 1.88778817 0.97417898 0.14045018 0.31956351]\n"
     ]
    }
   ],
   "source": [
    "print(rand_mat2)\n",
    "print(rand_mat2[rand_mat2>0])"
   ]
  },
  {
   "cell_type": "code",
   "execution_count": 70,
   "metadata": {},
   "outputs": [
    {
     "name": "stdout",
     "output_type": "stream",
     "text": [
      "[-2.04311228 -0.30442006  2.25062931  0.32387903 -0.09881289  0.76717318\n",
      "  0.03644874  0.48889591 -0.54829103  2.12902284  0.57024548 -0.159777\n",
      "  1.10163989 -0.25511907 -1.09410945]\n",
      "\n",
      "[-2.04311228 -0.30442006 -5.          0.32387903 -0.09881289 -5.\n",
      "  0.03644874  0.48889591 -0.54829103 -5.         -5.         -0.159777\n",
      " -5.         -0.25511907 -1.09410945]\n"
     ]
    }
   ],
   "source": [
    "print(rand_vec)\n",
    "print('')\n",
    "rand_vec[rand_vec>0.5] = -5\n",
    "print(rand_vec)"
   ]
  },
  {
   "cell_type": "code",
   "execution_count": 72,
   "metadata": {},
   "outputs": [
    {
     "name": "stdout",
     "output_type": "stream",
     "text": [
      "[[ 0.56406572 -2.45308343  1.09915431  0.55334963 -1.49591135]\n",
      " [ 1.16166719  1.63220271 -1.47229194  0.78653554 -0.24907279]\n",
      " [-0.38648293 -0.2228799   0.61999108 -0.93065148 -0.03620401]\n",
      " [ 0.51615141 -0.10689888 -0.4928117   0.92656789 -0.67133962]\n",
      " [-0.70128694 -1.67902255 -0.28971144 -1.70895881  1.6213796 ]\n",
      " [ 0.46389464  0.33988367 -2.07352601 -0.14894384  0.4001852 ]\n",
      " [-1.09059488 -1.8543349  -1.0516436   2.24155284 -0.65935472]\n",
      " [-0.55633153  1.05732578  1.01161723 -1.48532755  0.32315879]\n",
      " [ 0.68596545 -0.29920126 -0.42476915 -1.15704237  1.88778817]\n",
      " [-1.45258963 -0.88460177  0.97417898  0.14045018  0.31956351]]\n"
     ]
    }
   ],
   "source": [
    "print(rand_mat2)\n",
    "np.save('saved_file_name',rand_mat2)"
   ]
  },
  {
   "cell_type": "code",
   "execution_count": 73,
   "metadata": {},
   "outputs": [],
   "source": [
    "np.savez('zipped_file_name',rand_mat=rand_mat,rand_mat2=rand_mat2)"
   ]
  },
  {
   "cell_type": "code",
   "execution_count": 76,
   "metadata": {},
   "outputs": [
    {
     "name": "stdout",
     "output_type": "stream",
     "text": [
      "[[ 0.56406572 -2.45308343  1.09915431  0.55334963 -1.49591135]\n",
      " [ 1.16166719  1.63220271 -1.47229194  0.78653554 -0.24907279]\n",
      " [-0.38648293 -0.2228799   0.61999108 -0.93065148 -0.03620401]\n",
      " [ 0.51615141 -0.10689888 -0.4928117   0.92656789 -0.67133962]\n",
      " [-0.70128694 -1.67902255 -0.28971144 -1.70895881  1.6213796 ]\n",
      " [ 0.46389464  0.33988367 -2.07352601 -0.14894384  0.4001852 ]\n",
      " [-1.09059488 -1.8543349  -1.0516436   2.24155284 -0.65935472]\n",
      " [-0.55633153  1.05732578  1.01161723 -1.48532755  0.32315879]\n",
      " [ 0.68596545 -0.29920126 -0.42476915 -1.15704237  1.88778817]\n",
      " [-1.45258963 -0.88460177  0.97417898  0.14045018  0.31956351]]\n",
      "<numpy.lib.npyio.NpzFile object at 0x124f49d68>\n"
     ]
    }
   ],
   "source": [
    "loaded_vec=np.load('saved_file_name.npy')\n",
    "loaded_zip=np.load('zipped_file_name.npz')\n",
    "print(loaded_vec)\n",
    "print(loaded_zip)"
   ]
  },
  {
   "cell_type": "code",
   "execution_count": 79,
   "metadata": {},
   "outputs": [
    {
     "name": "stdout",
     "output_type": "stream",
     "text": [
      "[[3.         3.         3.         0.98483666 0.18280707]\n",
      " [3.         3.         3.         0.29469679 0.        ]\n",
      " [0.02986071 0.93206962 0.76228002 0.99843735 0.        ]\n",
      " [0.84393075 0.28135431 0.77700889 0.47309182 0.91940095]\n",
      " [0.98607777 0.78760567 0.36827271 0.23737644 0.44566016]]\n",
      "\n",
      "[[3.         3.         3.         0.98483666 0.18280707]\n",
      " [3.         3.         3.         0.29469679 0.        ]\n",
      " [0.02986071 0.93206962 0.76228002 0.99843735 0.        ]\n",
      " [0.84393075 0.28135431 0.77700889 0.47309182 0.91940095]\n",
      " [0.98607777 0.78760567 0.36827271 0.23737644 0.44566016]]\n",
      "[[3.         3.         3.         0.98483666 0.18280707]\n",
      " [3.         3.         3.         0.29469679 0.        ]\n",
      " [0.02986071 0.93206962 0.76228002 0.99843735 0.        ]\n",
      " [0.84393075 0.28135431 0.77700889 0.47309182 0.91940095]\n",
      " [0.98607777 0.78760567 0.36827271 0.23737644 0.44566016]]\n"
     ]
    }
   ],
   "source": [
    "print(loaded_zip['rand_mat'])\n",
    "print('')\n",
    "print(loaded_zip['rand_mat2'])\n",
    "new_array = loaded_zip['rand_mat']\n",
    "print(new_array)"
   ]
  },
  {
   "cell_type": "code",
   "execution_count": 83,
   "metadata": {},
   "outputs": [
    {
     "name": "stdout",
     "output_type": "stream",
     "text": [
      "[[3.         3.         3.         0.98483666 0.18280707]\n",
      " [3.         3.         3.         0.29469679 0.        ]\n",
      " [0.02986071 0.93206962 0.76228002 0.99843735 0.        ]\n",
      " [0.84393075 0.28135431 0.77700889 0.47309182 0.91940095]\n",
      " [0.98607777 0.78760567 0.36827271 0.23737644 0.44566016]]\n",
      "\n",
      "[[3.         3.         3.         0.98483666 0.18280707]\n",
      " [3.         3.         3.         0.29469679 0.        ]\n",
      " [0.02986071 0.93206962 0.76228002 0.99843735 0.        ]\n",
      " [0.84393075 0.28135431 0.77700889 0.47309182 0.91940095]\n",
      " [0.98607777 0.78760567 0.36827271 0.23737644 0.44566016]]\n"
     ]
    }
   ],
   "source": [
    "np.savetxt('text_file_name.txt',rand_mat,delimiter=',')\n",
    "rand_mat_txt=np.loadtxt('text_file_name.txt',delimiter=',')\n",
    "print(rand_mat)\n",
    "print('')\n",
    "print(rand_mat_txt)"
   ]
  },
  {
   "cell_type": "code",
   "execution_count": null,
   "metadata": {},
   "outputs": [],
   "source": []
  }
 ],
 "metadata": {
  "kernelspec": {
   "display_name": "Python 3",
   "language": "python",
   "name": "python3"
  },
  "language_info": {
   "codemirror_mode": {
    "name": "ipython",
    "version": 3
   },
   "file_extension": ".py",
   "mimetype": "text/x-python",
   "name": "python",
   "nbconvert_exporter": "python",
   "pygments_lexer": "ipython3",
   "version": "3.7.3"
  }
 },
 "nbformat": 4,
 "nbformat_minor": 4
}
