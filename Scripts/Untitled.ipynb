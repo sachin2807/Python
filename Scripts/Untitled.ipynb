{
 "cells": [
  {
   "cell_type": "code",
   "execution_count": 10,
   "metadata": {},
   "outputs": [
    {
     "data": {
      "text/plain": [
       "9"
      ]
     },
     "execution_count": 10,
     "metadata": {},
     "output_type": "execute_result"
    }
   ],
   "source": [
    "5+4"
   ]
  },
  {
   "cell_type": "code",
   "execution_count": 17,
   "metadata": {},
   "outputs": [
    {
     "name": "stdout",
     "output_type": "stream",
     "text": [
      "five times a is  15 and 3 is multiplied by a is  9\n",
      "five times a is  10 and 3 is multiplied by a is  6\n"
     ]
    }
   ],
   "source": [
    "a=3 #assign variable to 3\n",
    "print('five times a is ',5*a,'and 3 is multiplied by a is ',3*a)\n",
    "a=2 #assign variable to 3\n",
    "print('five times a is ',5*a,'and 3 is multiplied by a is ',3*a)"
   ]
  },
  {
   "cell_type": "code",
   "execution_count": 21,
   "metadata": {},
   "outputs": [
    {
     "name": "stdout",
     "output_type": "stream",
     "text": [
      "a is of type  <class 'int'>\n",
      "b is of type  <class 'float'>\n",
      "c is of type  <class 'float'>  and its value is  0.9523809523809523\n",
      "d is of type  <class 'float'>  and its value is  0.9523809523809523\n"
     ]
    }
   ],
   "source": [
    "print('a is of type ',type(a))\n",
    "b=2.1\n",
    "print('b is of type ',type(b))\n",
    "c=float(a)/b\n",
    "print('c is of type ',type(c),' and its value is ',c)\n",
    "d=a/b\n",
    "print('d is of type ',type(d),' and its value is ',d)\n"
   ]
  },
  {
   "cell_type": "code",
   "execution_count": 26,
   "metadata": {},
   "outputs": [
    {
     "name": "stdout",
     "output_type": "stream",
     "text": [
      "['Sachin', 2, 3, 4, 'python', 2.71]\n",
      "Sachin\n",
      "2\n",
      "3\n",
      "4\n",
      "python\n",
      "2.71\n",
      "2.71\n",
      "3\n"
     ]
    }
   ],
   "source": [
    "simple_list = ['Sachin',2,3,4,'python',2.71]\n",
    "print(simple_list)\n",
    "print(simple_list[0])\n",
    "print(simple_list[1])\n",
    "print(simple_list[2])\n",
    "print(simple_list[3])\n",
    "print(simple_list[4])\n",
    "print(simple_list[5])\n",
    "print(simple_list[-1])\n",
    "print(simple_list[-4])\n",
    "print(simple_list[0])"
   ]
  },
  {
   "cell_type": "code",
   "execution_count": null,
   "metadata": {},
   "outputs": [],
   "source": []
  },
  {
   "cell_type": "code",
   "execution_count": null,
   "metadata": {},
   "outputs": [],
   "source": []
  },
  {
   "cell_type": "code",
   "execution_count": null,
   "metadata": {},
   "outputs": [],
   "source": []
  },
  {
   "cell_type": "code",
   "execution_count": null,
   "metadata": {},
   "outputs": [],
   "source": []
  },
  {
   "cell_type": "code",
   "execution_count": 5,
   "metadata": {},
   "outputs": [
    {
     "name": "stdout",
     "output_type": "stream",
     "text": [
      "Hello World\n"
     ]
    }
   ],
   "source": [
    "print(\"Hello World\")"
   ]
  },
  {
   "cell_type": "code",
   "execution_count": null,
   "metadata": {},
   "outputs": [],
   "source": []
  }
 ],
 "metadata": {
  "kernelspec": {
   "display_name": "Python 3",
   "language": "python",
   "name": "python3"
  },
  "language_info": {
   "codemirror_mode": {
    "name": "ipython",
    "version": 3
   },
   "file_extension": ".py",
   "mimetype": "text/x-python",
   "name": "python",
   "nbconvert_exporter": "python",
   "pygments_lexer": "ipython3",
   "version": "3.7.3"
  }
 },
 "nbformat": 4,
 "nbformat_minor": 4
}
