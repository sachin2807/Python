{
 "cells": [
  {
   "cell_type": "code",
   "execution_count": 10,
   "metadata": {},
   "outputs": [
    {
     "data": {
      "text/plain": [
       "9"
      ]
     },
     "execution_count": 10,
     "metadata": {},
     "output_type": "execute_result"
    }
   ],
   "source": [
    "5+4"
   ]
  },
  {
   "cell_type": "code",
   "execution_count": 17,
   "metadata": {},
   "outputs": [
    {
     "name": "stdout",
     "output_type": "stream",
     "text": [
      "five times a is  15 and 3 is multiplied by a is  9\n",
      "five times a is  10 and 3 is multiplied by a is  6\n"
     ]
    }
   ],
   "source": [
    "a=3 #assign variable to 3\n",
    "print('five times a is ',5*a,'and 3 is multiplied by a is ',3*a)\n",
    "a=2 #assign variable to 3\n",
    "print('five times a is ',5*a,'and 3 is multiplied by a is ',3*a)"
   ]
  },
  {
   "cell_type": "code",
   "execution_count": 21,
   "metadata": {},
   "outputs": [
    {
     "name": "stdout",
     "output_type": "stream",
     "text": [
      "a is of type  <class 'int'>\n",
      "b is of type  <class 'float'>\n",
      "c is of type  <class 'float'>  and its value is  0.9523809523809523\n",
      "d is of type  <class 'float'>  and its value is  0.9523809523809523\n"
     ]
    }
   ],
   "source": [
    "print('a is of type ',type(a))\n",
    "b=2.1\n",
    "print('b is of type ',type(b))\n",
    "c=float(a)/b\n",
    "print('c is of type ',type(c),' and its value is ',c)\n",
    "d=a/b\n",
    "print('d is of type ',type(d),' and its value is ',d)\n"
   ]
  },
  {
   "cell_type": "code",
   "execution_count": 27,
   "metadata": {},
   "outputs": [
    {
     "name": "stdout",
     "output_type": "stream",
     "text": [
      "['Sachin', 2, 3, 4, 'python', 2.71]\n",
      "Sachin\n",
      "2\n",
      "3\n",
      "4\n",
      "python\n",
      "2.71\n",
      "2.71\n",
      "3\n",
      "6\n"
     ]
    }
   ],
   "source": [
    "simple_list = ['Sachin',2,3,4,'python',2.71]\n",
    "print(simple_list)\n",
    "print(simple_list[0])\n",
    "print(simple_list[1])\n",
    "print(simple_list[2])\n",
    "print(simple_list[3])\n",
    "print(simple_list[4])\n",
    "print(simple_list[5])\n",
    "print(simple_list[-1])\n",
    "print(simple_list[-4])\n",
    "print(len(simple_list))"
   ]
  },
  {
   "cell_type": "code",
   "execution_count": 28,
   "metadata": {},
   "outputs": [
    {
     "name": "stdout",
     "output_type": "stream",
     "text": [
      "52\n",
      "['Sachin', 2, 3, 52, 'python', 2.71, 'to the back']\n",
      "['Sachin', 2, 3, 52, 2.71, 'to the back']\n"
     ]
    }
   ],
   "source": [
    "simple_list[3]=52\n",
    "print(simple_list[3])\n",
    "simple_list.append('to the back')\n",
    "print(simple_list)\n",
    "simple_list.pop(4)\n",
    "print(simple_list)"
   ]
  },
  {
   "cell_type": "code",
   "execution_count": 30,
   "metadata": {},
   "outputs": [
    {
     "name": "stdout",
     "output_type": "stream",
     "text": [
      "[5, 5, 5, 5]\n"
     ]
    }
   ],
   "source": [
    "repeated_list = [5]*4\n",
    "print(repeated_list)"
   ]
  },
  {
   "cell_type": "code",
   "execution_count": 31,
   "metadata": {},
   "outputs": [
    {
     "name": "stdout",
     "output_type": "stream",
     "text": [
      "['Sachin', [1, 2, 3], 3, 52, 2.71, 'to the back']\n",
      "[1, 2, 3]\n",
      "2\n"
     ]
    }
   ],
   "source": [
    "simple_list[1]=[1,2,3]\n",
    "print(simple_list)\n",
    "print(simple_list[1])\n",
    "print(simple_list[1][1])"
   ]
  },
  {
   "cell_type": "code",
   "execution_count": 38,
   "metadata": {},
   "outputs": [
    {
     "name": "stdout",
     "output_type": "stream",
     "text": [
      "['Sachin', 0, 3, 52, 2.71, 'to the back']\n",
      "['Sachin', 0, 3, 52, 2.71, 'to the back']\n",
      "['Sachin', 0, 3, 52, 2.71, 'to the back']\n",
      "['Sachin', 0, 3, 52, 2.71, 'to the back']\n"
     ]
    }
   ],
   "source": [
    "list2=simple_list\n",
    "print(list2)\n",
    "print(simple_list)\n",
    "list2[1]=0\n",
    "print(list2)\n",
    "print(simple_list)"
   ]
  },
  {
   "cell_type": "code",
   "execution_count": 34,
   "metadata": {},
   "outputs": [
    {
     "name": "stdout",
     "output_type": "stream",
     "text": [
      "['Sachin', 0, 3, 52, 2.71, 'to the back']\n",
      "['Sachin', 0, 3, 52, 2.71, 'to the back']\n",
      "['Mitchell', 0, 3, 52, 2.71, 'to the back']\n",
      "['Sachin', 0, 3, 52, 2.71, 'to the back']\n"
     ]
    }
   ],
   "source": [
    "list3=simple_list.copy()\n",
    "print(list3)\n",
    "print(simple_list)\n",
    "list3[0]= 'Mitchell'\n",
    "print(list3)\n",
    "print(simple_list)"
   ]
  },
  {
   "cell_type": "code",
   "execution_count": 39,
   "metadata": {},
   "outputs": [
    {
     "name": "stdout",
     "output_type": "stream",
     "text": [
      "(12, 33, 45, 32, 11221)\n",
      "33\n"
     ]
    }
   ],
   "source": [
    "simple_tuple = (12,33,45,32,11221)\n",
    "print(simple_tuple)\n",
    "print(simple_tuple[1])"
   ]
  },
  {
   "cell_type": "code",
   "execution_count": 40,
   "metadata": {},
   "outputs": [
    {
     "ename": "TypeError",
     "evalue": "'tuple' object does not support item assignment",
     "output_type": "error",
     "traceback": [
      "\u001b[0;31m---------------------------------------------------------------------------\u001b[0m",
      "\u001b[0;31mTypeError\u001b[0m                                 Traceback (most recent call last)",
      "\u001b[0;32m<ipython-input-40-2d99c078de4f>\u001b[0m in \u001b[0;36m<module>\u001b[0;34m\u001b[0m\n\u001b[0;32m----> 1\u001b[0;31m \u001b[0msimple_tuple\u001b[0m\u001b[0;34m[\u001b[0m\u001b[0;36m1\u001b[0m\u001b[0;34m]\u001b[0m\u001b[0;34m=\u001b[0m\u001b[0;36m1\u001b[0m\u001b[0;34m\u001b[0m\u001b[0;34m\u001b[0m\u001b[0m\n\u001b[0m",
      "\u001b[0;31mTypeError\u001b[0m: 'tuple' object does not support item assignment"
     ]
    }
   ],
   "source": [
    "simple_tuple[1]=1"
   ]
  },
  {
   "cell_type": "code",
   "execution_count": 42,
   "metadata": {},
   "outputs": [
    {
     "name": "stdout",
     "output_type": "stream",
     "text": [
      "[12, 33, 45, 32, 11221]\n",
      "[12, 5, 45, 32, 11221]\n",
      "(12, 5, 45, 32, 11221)\n"
     ]
    }
   ],
   "source": [
    "dummy_list=list(simple_tuple)\n",
    "print(dummy_list)\n",
    "dummy_list[1]=5\n",
    "print(dummy_list)\n",
    "simple_tuple =tuple(dummy_list)\n",
    "print(simple_tuple)"
   ]
  },
  {
   "cell_type": "code",
   "execution_count": 45,
   "metadata": {},
   "outputs": [
    {
     "name": "stdout",
     "output_type": "stream",
     "text": [
      "{11, 'water', -2}\n"
     ]
    }
   ],
   "source": [
    "simple_set={11,-2,'water',-2}\n",
    "print(simple_set)\n"
   ]
  },
  {
   "cell_type": "code",
   "execution_count": 46,
   "metadata": {},
   "outputs": [
    {
     "ename": "TypeError",
     "evalue": "'set' object is not subscriptable",
     "output_type": "error",
     "traceback": [
      "\u001b[0;31m---------------------------------------------------------------------------\u001b[0m",
      "\u001b[0;31mTypeError\u001b[0m                                 Traceback (most recent call last)",
      "\u001b[0;32m<ipython-input-46-263fc76fcfaa>\u001b[0m in \u001b[0;36m<module>\u001b[0;34m\u001b[0m\n\u001b[0;32m----> 1\u001b[0;31m \u001b[0mprint\u001b[0m\u001b[0;34m(\u001b[0m\u001b[0msimple_set\u001b[0m\u001b[0;34m[\u001b[0m\u001b[0;36m1\u001b[0m\u001b[0;34m]\u001b[0m\u001b[0;34m)\u001b[0m\u001b[0;34m\u001b[0m\u001b[0;34m\u001b[0m\u001b[0m\n\u001b[0m",
      "\u001b[0;31mTypeError\u001b[0m: 'set' object is not subscriptable"
     ]
    }
   ],
   "source": [
    "print(simple_set[1])"
   ]
  },
  {
   "cell_type": "code",
   "execution_count": 48,
   "metadata": {},
   "outputs": [
    {
     "name": "stdout",
     "output_type": "stream",
     "text": [
      "True\n",
      "False\n"
     ]
    }
   ],
   "source": [
    "print('water' in simple_set)\n",
    "print('waters' in simple_set)\n"
   ]
  },
  {
   "cell_type": "code",
   "execution_count": 49,
   "metadata": {},
   "outputs": [
    {
     "name": "stdout",
     "output_type": "stream",
     "text": [
      "{72, 11, -2}\n"
     ]
    }
   ],
   "source": [
    "simple_set.add(72)\n",
    "simple_set.remove('water')\n",
    "print(simple_set)"
   ]
  },
  {
   "cell_type": "code",
   "execution_count": 53,
   "metadata": {},
   "outputs": [
    {
     "name": "stdout",
     "output_type": "stream",
     "text": [
      "{'brand': 'Apple', 'product': 'iPhone', 'model': 'X'}\n",
      "I bought an iPhone model  X from  Apple\n"
     ]
    }
   ],
   "source": [
    "simple_dict = {\"brand\":\"Apple\",\n",
    "              \"product\":\"iPhone\",\n",
    "              \"model\":\"X\"}\n",
    "print(simple_dict)\n",
    "print('I bought an',simple_dict['product'],\"model \",simple_dict['model'],'from ',simple_dict['brand'])"
   ]
  },
  {
   "cell_type": "code",
   "execution_count": 55,
   "metadata": {},
   "outputs": [
    {
     "name": "stdout",
     "output_type": "stream",
     "text": [
      "I bought an iPhone model  11 Pro from  Apple\n"
     ]
    }
   ],
   "source": [
    "simple_dict[\"model\"]=\"11 Pro\"\n",
    "print('I bought an',simple_dict['product'],\"model \",simple_dict['model'],'from ',simple_dict['brand'])"
   ]
  },
  {
   "cell_type": "code",
   "execution_count": 57,
   "metadata": {},
   "outputs": [
    {
     "name": "stdout",
     "output_type": "stream",
     "text": [
      "I bought an red iPhone model  11 Pro from  Apple\n"
     ]
    }
   ],
   "source": [
    "simple_dict['color']=\"red\"\n",
    "print('I bought an',simple_dict['color'],simple_dict['product'],\"model \",simple_dict['model'],'from ',simple_dict['brand'])"
   ]
  },
  {
   "cell_type": "code",
   "execution_count": 60,
   "metadata": {},
   "outputs": [
    {
     "name": "stdout",
     "output_type": "stream",
     "text": [
      "['Sachin', 0, 3, 52, 2.71, 'to the back']\n",
      "[3, 52, 2.71]\n",
      "[3]\n",
      "[0, 3, 52, 2.71]\n"
     ]
    }
   ],
   "source": [
    "print(simple_list)\n",
    "print(simple_list[2:5])\n",
    "print(simple_list[2:3])\n",
    "print(simple_list[-5:-1])"
   ]
  },
  {
   "cell_type": "code",
   "execution_count": null,
   "metadata": {},
   "outputs": [],
   "source": []
  }
 ],
 "metadata": {
  "kernelspec": {
   "display_name": "Python 3",
   "language": "python",
   "name": "python3"
  },
  "language_info": {
   "codemirror_mode": {
    "name": "ipython",
    "version": 3
   },
   "file_extension": ".py",
   "mimetype": "text/x-python",
   "name": "python",
   "nbconvert_exporter": "python",
   "pygments_lexer": "ipython3",
   "version": "3.7.3"
  }
 },
 "nbformat": 4,
 "nbformat_minor": 4
}
